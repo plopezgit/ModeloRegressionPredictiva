{
 "cells": [
  {
   "cell_type": "code",
   "execution_count": 38,
   "id": "be52c3ef",
   "metadata": {
    "scrolled": true
   },
   "outputs": [
    {
     "data": {
      "text/html": [
       "<div>\n",
       "<style scoped>\n",
       "    .dataframe tbody tr th:only-of-type {\n",
       "        vertical-align: middle;\n",
       "    }\n",
       "\n",
       "    .dataframe tbody tr th {\n",
       "        vertical-align: top;\n",
       "    }\n",
       "\n",
       "    .dataframe thead th {\n",
       "        text-align: right;\n",
       "    }\n",
       "</style>\n",
       "<table border=\"1\" class=\"dataframe\">\n",
       "  <thead>\n",
       "    <tr style=\"text-align: right;\">\n",
       "      <th></th>\n",
       "      <th>Localidad</th>\n",
       "      <th>Habitantes</th>\n",
       "      <th>Num. Accidentes</th>\n",
       "    </tr>\n",
       "  </thead>\n",
       "  <tbody>\n",
       "    <tr>\n",
       "      <th>0</th>\n",
       "      <td>A Coruña</td>\n",
       "      <td>5268</td>\n",
       "      <td>75</td>\n",
       "    </tr>\n",
       "    <tr>\n",
       "      <th>1</th>\n",
       "      <td>Almeria</td>\n",
       "      <td>10657</td>\n",
       "      <td>124</td>\n",
       "    </tr>\n",
       "    <tr>\n",
       "      <th>2</th>\n",
       "      <td>Albacete</td>\n",
       "      <td>7500</td>\n",
       "      <td>94</td>\n",
       "    </tr>\n",
       "    <tr>\n",
       "      <th>3</th>\n",
       "      <td>Badajoz</td>\n",
       "      <td>13578</td>\n",
       "      <td>147</td>\n",
       "    </tr>\n",
       "    <tr>\n",
       "      <th>4</th>\n",
       "      <td>Alicante</td>\n",
       "      <td>22356</td>\n",
       "      <td>287</td>\n",
       "    </tr>\n",
       "    <tr>\n",
       "      <th>5</th>\n",
       "      <td>Badalona</td>\n",
       "      <td>8678</td>\n",
       "      <td>101</td>\n",
       "    </tr>\n",
       "    <tr>\n",
       "      <th>6</th>\n",
       "      <td>Aranjuez</td>\n",
       "      <td>34687</td>\n",
       "      <td>358</td>\n",
       "    </tr>\n",
       "    <tr>\n",
       "      <th>7</th>\n",
       "      <td>Algeciras</td>\n",
       "      <td>18368</td>\n",
       "      <td>167</td>\n",
       "    </tr>\n",
       "    <tr>\n",
       "      <th>8</th>\n",
       "      <td>Almuñecar</td>\n",
       "      <td>76248</td>\n",
       "      <td>815</td>\n",
       "    </tr>\n",
       "    <tr>\n",
       "      <th>9</th>\n",
       "      <td>Barbate</td>\n",
       "      <td>56874</td>\n",
       "      <td>580</td>\n",
       "    </tr>\n",
       "    <tr>\n",
       "      <th>10</th>\n",
       "      <td>Astorga</td>\n",
       "      <td>45000</td>\n",
       "      <td>677</td>\n",
       "    </tr>\n",
       "    <tr>\n",
       "      <th>11</th>\n",
       "      <td>Alcobendas</td>\n",
       "      <td>59000</td>\n",
       "      <td>873</td>\n",
       "    </tr>\n",
       "    <tr>\n",
       "      <th>12</th>\n",
       "      <td>Alella</td>\n",
       "      <td>86000</td>\n",
       "      <td>1075</td>\n",
       "    </tr>\n",
       "    <tr>\n",
       "      <th>13</th>\n",
       "      <td>Argentona</td>\n",
       "      <td>12745</td>\n",
       "      <td>160</td>\n",
       "    </tr>\n",
       "    <tr>\n",
       "      <th>14</th>\n",
       "      <td>Mataro</td>\n",
       "      <td>71523</td>\n",
       "      <td>800</td>\n",
       "    </tr>\n",
       "    <tr>\n",
       "      <th>15</th>\n",
       "      <td>Almazora</td>\n",
       "      <td>27383</td>\n",
       "      <td>294</td>\n",
       "    </tr>\n",
       "    <tr>\n",
       "      <th>16</th>\n",
       "      <td>Bargas</td>\n",
       "      <td>10807</td>\n",
       "      <td>205</td>\n",
       "    </tr>\n",
       "    <tr>\n",
       "      <th>17</th>\n",
       "      <td>Alovera</td>\n",
       "      <td>43142</td>\n",
       "      <td>412</td>\n",
       "    </tr>\n",
       "    <tr>\n",
       "      <th>18</th>\n",
       "      <td>Alcañiz</td>\n",
       "      <td>16054</td>\n",
       "      <td>184</td>\n",
       "    </tr>\n",
       "    <tr>\n",
       "      <th>19</th>\n",
       "      <td>Bayona</td>\n",
       "      <td>12348</td>\n",
       "      <td>166</td>\n",
       "    </tr>\n",
       "    <tr>\n",
       "      <th>20</th>\n",
       "      <td>Abrera</td>\n",
       "      <td>33505</td>\n",
       "      <td>457</td>\n",
       "    </tr>\n",
       "  </tbody>\n",
       "</table>\n",
       "</div>"
      ],
      "text/plain": [
       "     Localidad  Habitantes  Num. Accidentes\n",
       "0     A Coruña        5268               75\n",
       "1      Almeria       10657              124\n",
       "2     Albacete        7500               94\n",
       "3      Badajoz       13578              147\n",
       "4     Alicante       22356              287\n",
       "5     Badalona        8678              101\n",
       "6     Aranjuez       34687              358\n",
       "7    Algeciras       18368              167\n",
       "8    Almuñecar       76248              815\n",
       "9      Barbate       56874              580\n",
       "10     Astorga       45000              677\n",
       "11  Alcobendas       59000              873\n",
       "12      Alella       86000             1075\n",
       "13   Argentona       12745              160\n",
       "14      Mataro       71523              800\n",
       "15    Almazora       27383              294\n",
       "16      Bargas       10807              205\n",
       "17     Alovera       43142              412\n",
       "18     Alcañiz       16054              184\n",
       "19      Bayona       12348              166\n",
       "20      Abrera       33505              457"
      ]
     },
     "execution_count": 38,
     "metadata": {},
     "output_type": "execute_result"
    }
   ],
   "source": [
    "#Para crear un modelo predictivo con Regresion Lineal y vamos req. \n",
    "# pandas, mtplotlib (graficos), numpy (arrays), scikit-Learn\n",
    "\n",
    "import pandas as pd\n",
    "import matplotlib.pyplot as plt\n",
    "import numpy as np\n",
    "from sklearn.linear_model import LinearRegression\n",
    "\n",
    "#Abrir fichero CSV\n",
    "Accidentes=pd.read_csv(\"Datos Accidentes2.csv\")\n",
    "Accidentes"
   ]
  },
  {
   "cell_type": "code",
   "execution_count": 39,
   "id": "13aa4c78",
   "metadata": {},
   "outputs": [
    {
     "data": {
      "image/png": "[encoded data removed]",
      "text/plain": [
       "<Figure size 640x480 with 1 Axes>"
      ]
     },
     "metadata": {},
     "output_type": "display_data"
    }
   ],
   "source": [
    "#Representar los datos, en un grafico de dispersion\n",
    "#Scatter\n",
    "# Y variable dependiente a predecir = unidades\n",
    "y=Accidentes[\"Num. Accidentes\"]\n",
    "# X variable independiente = anio\n",
    "x=Accidentes[\"Habitantes\"]\n",
    "#grafico\n",
    "plt.scatter(x,y,color=\"blue\")\n",
    "plt.title(\"Accidentes\")\n",
    "plt.show;\n",
    "\n",
    "#r2\n",
    "#ecuacion Y(variable independiente a predecir)=a(pendiente linea de tendencia)x(variable independiente)+b(interseccion)"
   ]
  },
  {
   "cell_type": "code",
   "execution_count": 40,
   "id": "03441157",
   "metadata": {},
   "outputs": [
    {
     "name": "stdout",
     "output_type": "stream",
     "text": [
      "La pendiente seria [0.01174636]\n",
      "La interseccion seria 7.6533662987778825\n"
     ]
    }
   ],
   "source": [
    "#vamos a crear el modelo predictivo\n",
    "regression_lineal=LinearRegression()\n",
    "#Vamos a entrenar el modelo predictivo\n",
    "regression_lineal.fit(x.values.reshape(-1,1),y)\n",
    "a=regression_lineal.coef_\n",
    "b=regression_lineal.intercept_\n",
    "print(\"La pendiente seria\",a)\n",
    "print(\"La interseccion seria\",b)"
   ]
  },
  {
   "cell_type": "code",
   "execution_count": 45,
   "id": "663e6b64",
   "metadata": {},
   "outputs": [
    {
     "data": {
      "text/plain": [
       "array([1182.28975666])"
      ]
     },
     "execution_count": 45,
     "metadata": {},
     "output_type": "execute_result"
    }
   ],
   "source": [
    "y2=a*100000+b\n",
    "y2"
   ]
  },
  {
   "cell_type": "code",
   "execution_count": 42,
   "id": "4620b16a",
   "metadata": {},
   "outputs": [
    {
     "name": "stdout",
     "output_type": "stream",
     "text": [
      "El coeficiente R2 es igual a  {0.94547709084009}\n"
     ]
    },
    {
     "data": {
      "image/png": "[encoded data removed]",
      "text/plain": [
       "<Figure size 640x480 with 1 Axes>"
      ]
     },
     "metadata": {},
     "output_type": "display_data"
    }
   ],
   "source": [
    "from sklearn.metrics import r2_score \n",
    "plt.plot(x,y,\".\",color=\"blue\")\n",
    "z=np.polyfit(x,y,1)\n",
    "y_hat=np.poly1d(z)(x)\n",
    "plt.plot(x,y_hat,\"r-\",lw=1);\n",
    "\n",
    "#calcular el coeficiente R2\n",
    "\n",
    "resultado={r2_score(y,y_hat)}\n",
    "print(\"El coeficiente R2 es igual a \",resultado)\n"
   ]
  },
  {
   "cell_type": "code",
   "execution_count": 44,
   "id": "f0033d7a",
   "metadata": {},
   "outputs": [
    {
     "name": "stdout",
     "output_type": "stream",
     "text": [
      "La cantidad de motocicletas sera [1182.28975666]\n"
     ]
    }
   ],
   "source": [
    "#vamos a predecir con el modelo, por lo que necesito una variable para un nuevo anio mediante un array (matriz)\n",
    "prediccionAnio = np.array([100000])\n",
    "prediccionunidades = regression_lineal.predict(prediccionAnio.reshape(-1,1))\n",
    "print(\"La cantidad de motocicletas sera\", prediccionunidades)"
   ]
  },
  {
   "cell_type": "code",
   "execution_count": null,
   "id": "d5fd9e63",
   "metadata": {},
   "outputs": [],
   "source": []
  }
 ],
 "metadata": {
  "kernelspec": {
   "display_name": "Python 3 (ipykernel)",
   "language": "python",
   "name": "python3"
  },
  "language_info": {
   "codemirror_mode": {
    "name": "ipython",
    "version": 3
   },
   "file_extension": ".py",
   "mimetype": "text/x-python",
   "name": "python",
   "nbconvert_exporter": "python",
   "pygments_lexer": "ipython3",
   "version": "3.11.3"
  }
 },
 "nbformat": 4,
 "nbformat_minor": 5
}
